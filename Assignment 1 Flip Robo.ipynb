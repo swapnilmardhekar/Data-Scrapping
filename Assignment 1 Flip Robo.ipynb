{
 "cells": [
  {
   "cell_type": "code",
   "execution_count": 225,
   "id": "452efb1e",
   "metadata": {},
   "outputs": [],
   "source": [
    "from bs4 import BeautifulSoup\n",
    "import requests"
   ]
  },
  {
   "cell_type": "code",
   "execution_count": 226,
   "id": "97390c7e",
   "metadata": {},
   "outputs": [],
   "source": [
    "web= requests.get('https://en.wikipedia.org/wiki/Main_Page')"
   ]
  },
  {
   "cell_type": "code",
   "execution_count": 227,
   "id": "c7aa7be6",
   "metadata": {},
   "outputs": [
    {
     "data": {
      "text/plain": [
       "<Response [200]>"
      ]
     },
     "execution_count": 227,
     "metadata": {},
     "output_type": "execute_result"
    }
   ],
   "source": [
    "web"
   ]
  },
  {
   "cell_type": "code",
   "execution_count": 228,
   "id": "8b45a63e",
   "metadata": {},
   "outputs": [],
   "source": [
    "bs=BeautifulSoup(web.content)"
   ]
  },
  {
   "cell_type": "code",
   "execution_count": 229,
   "id": "a245730c",
   "metadata": {},
   "outputs": [],
   "source": [
    "h1=[]"
   ]
  },
  {
   "cell_type": "code",
   "execution_count": 230,
   "id": "1e14c377",
   "metadata": {},
   "outputs": [],
   "source": [
    "for i in bs.find_all('h1', class_='firstHeading mw-first-heading'):\n",
    "    h1.append(i.text.split('|')[0])"
   ]
  },
  {
   "cell_type": "code",
   "execution_count": 231,
   "id": "488681cc",
   "metadata": {},
   "outputs": [
    {
     "data": {
      "text/plain": [
       "['Main Page']"
      ]
     },
     "execution_count": 231,
     "metadata": {},
     "output_type": "execute_result"
    }
   ],
   "source": [
    "h1"
   ]
  },
  {
   "cell_type": "code",
   "execution_count": 232,
   "id": "2635c860",
   "metadata": {},
   "outputs": [],
   "source": [
    "h2=[]"
   ]
  },
  {
   "cell_type": "code",
   "execution_count": 233,
   "id": "dc738541",
   "metadata": {},
   "outputs": [],
   "source": [
    "for i in bs.find_all('h2', class_='mp-h2'):\n",
    "    h2.append(i.text.split('|')[0])"
   ]
  },
  {
   "cell_type": "code",
   "execution_count": 234,
   "id": "87ed6267",
   "metadata": {
    "scrolled": true
   },
   "outputs": [
    {
     "data": {
      "text/plain": [
       "[\"From today's featured article\",\n",
       " 'Did you know\\xa0...',\n",
       " 'In the news',\n",
       " 'On this day',\n",
       " \"Today's featured picture\",\n",
       " 'Other areas of Wikipedia',\n",
       " \"Wikipedia's sister projects\",\n",
       " 'Wikipedia languages']"
      ]
     },
     "execution_count": 234,
     "metadata": {},
     "output_type": "execute_result"
    }
   ],
   "source": [
    "h2"
   ]
  },
  {
   "cell_type": "code",
   "execution_count": 235,
   "id": "7e64e30e",
   "metadata": {},
   "outputs": [
    {
     "data": {
      "text/plain": [
       "8"
      ]
     },
     "execution_count": 235,
     "metadata": {},
     "output_type": "execute_result"
    }
   ],
   "source": [
    "len(h2)"
   ]
  },
  {
   "cell_type": "code",
   "execution_count": 242,
   "id": "b13c539a",
   "metadata": {},
   "outputs": [],
   "source": [
    "h3=[]\n",
    "for i in bs.find_all('h3', class_='vector-menu-heading'):\n",
    "    h3.append(i.text.split('|')[0])"
   ]
  },
  {
   "cell_type": "code",
   "execution_count": 243,
   "id": "f023d91d",
   "metadata": {},
   "outputs": [
    {
     "data": {
      "text/plain": [
       "['\\nPersonal tools\\n',\n",
       " '\\nNamespaces\\n',\n",
       " '\\nViews\\n',\n",
       " '\\nNavigation\\n',\n",
       " '\\nContribute\\n',\n",
       " '\\nTools\\n',\n",
       " '\\nPrint/export\\n',\n",
       " '\\nIn other projects\\n',\n",
       " '\\nLanguages\\n']"
      ]
     },
     "execution_count": 243,
     "metadata": {},
     "output_type": "execute_result"
    }
   ],
   "source": [
    "h3"
   ]
  },
  {
   "cell_type": "code",
   "execution_count": 244,
   "id": "8702627d",
   "metadata": {},
   "outputs": [],
   "source": [
    "h3 = [i.replace('\\n','') for i in h3]"
   ]
  },
  {
   "cell_type": "code",
   "execution_count": 245,
   "id": "63d30134",
   "metadata": {
    "scrolled": true
   },
   "outputs": [
    {
     "data": {
      "text/plain": [
       "['Personal tools',\n",
       " 'Namespaces',\n",
       " 'Views',\n",
       " 'Navigation',\n",
       " 'Contribute',\n",
       " 'Tools',\n",
       " 'Print/export',\n",
       " 'In other projects',\n",
       " 'Languages']"
      ]
     },
     "execution_count": 245,
     "metadata": {},
     "output_type": "execute_result"
    }
   ],
   "source": [
    "h3"
   ]
  },
  {
   "cell_type": "code",
   "execution_count": 246,
   "id": "1083c28c",
   "metadata": {},
   "outputs": [
    {
     "data": {
      "text/plain": [
       "9"
      ]
     },
     "execution_count": 246,
     "metadata": {},
     "output_type": "execute_result"
    }
   ],
   "source": [
    "len(h3)"
   ]
  },
  {
   "cell_type": "code",
   "execution_count": 247,
   "id": "4e2b8177",
   "metadata": {},
   "outputs": [],
   "source": [
    "headers = []\n",
    "headers.extend(h1)\n",
    "headers.extend(h2)\n",
    "headers.extend(h3)\n",
    "#headers.append(h1)\n",
    "#headers.append(h2)\n",
    "#headers.append(h3)"
   ]
  },
  {
   "cell_type": "code",
   "execution_count": 248,
   "id": "de86331d",
   "metadata": {},
   "outputs": [
    {
     "data": {
      "text/plain": [
       "['Main Page',\n",
       " \"From today's featured article\",\n",
       " 'Did you know\\xa0...',\n",
       " 'In the news',\n",
       " 'On this day',\n",
       " \"Today's featured picture\",\n",
       " 'Other areas of Wikipedia',\n",
       " \"Wikipedia's sister projects\",\n",
       " 'Wikipedia languages',\n",
       " 'Personal tools',\n",
       " 'Namespaces',\n",
       " 'Views',\n",
       " 'Navigation',\n",
       " 'Contribute',\n",
       " 'Tools',\n",
       " 'Print/export',\n",
       " 'In other projects',\n",
       " 'Languages']"
      ]
     },
     "execution_count": 248,
     "metadata": {},
     "output_type": "execute_result"
    }
   ],
   "source": [
    "headers"
   ]
  },
  {
   "cell_type": "code",
   "execution_count": 249,
   "id": "f947dad3",
   "metadata": {},
   "outputs": [],
   "source": [
    "import pandas as pd"
   ]
  },
  {
   "cell_type": "code",
   "execution_count": 250,
   "id": "458c714c",
   "metadata": {},
   "outputs": [],
   "source": [
    "df= pd.DataFrame({'headers':headers})"
   ]
  },
  {
   "cell_type": "code",
   "execution_count": 251,
   "id": "04046c60",
   "metadata": {},
   "outputs": [
    {
     "data": {
      "text/html": [
       "<div>\n",
       "<style scoped>\n",
       "    .dataframe tbody tr th:only-of-type {\n",
       "        vertical-align: middle;\n",
       "    }\n",
       "\n",
       "    .dataframe tbody tr th {\n",
       "        vertical-align: top;\n",
       "    }\n",
       "\n",
       "    .dataframe thead th {\n",
       "        text-align: right;\n",
       "    }\n",
       "</style>\n",
       "<table border=\"1\" class=\"dataframe\">\n",
       "  <thead>\n",
       "    <tr style=\"text-align: right;\">\n",
       "      <th></th>\n",
       "      <th>headers</th>\n",
       "    </tr>\n",
       "  </thead>\n",
       "  <tbody>\n",
       "    <tr>\n",
       "      <th>0</th>\n",
       "      <td>Main Page</td>\n",
       "    </tr>\n",
       "    <tr>\n",
       "      <th>1</th>\n",
       "      <td>From today's featured article</td>\n",
       "    </tr>\n",
       "    <tr>\n",
       "      <th>2</th>\n",
       "      <td>Did you know ...</td>\n",
       "    </tr>\n",
       "    <tr>\n",
       "      <th>3</th>\n",
       "      <td>In the news</td>\n",
       "    </tr>\n",
       "    <tr>\n",
       "      <th>4</th>\n",
       "      <td>On this day</td>\n",
       "    </tr>\n",
       "    <tr>\n",
       "      <th>5</th>\n",
       "      <td>Today's featured picture</td>\n",
       "    </tr>\n",
       "    <tr>\n",
       "      <th>6</th>\n",
       "      <td>Other areas of Wikipedia</td>\n",
       "    </tr>\n",
       "    <tr>\n",
       "      <th>7</th>\n",
       "      <td>Wikipedia's sister projects</td>\n",
       "    </tr>\n",
       "    <tr>\n",
       "      <th>8</th>\n",
       "      <td>Wikipedia languages</td>\n",
       "    </tr>\n",
       "    <tr>\n",
       "      <th>9</th>\n",
       "      <td>Personal tools</td>\n",
       "    </tr>\n",
       "    <tr>\n",
       "      <th>10</th>\n",
       "      <td>Namespaces</td>\n",
       "    </tr>\n",
       "    <tr>\n",
       "      <th>11</th>\n",
       "      <td>Views</td>\n",
       "    </tr>\n",
       "    <tr>\n",
       "      <th>12</th>\n",
       "      <td>Navigation</td>\n",
       "    </tr>\n",
       "    <tr>\n",
       "      <th>13</th>\n",
       "      <td>Contribute</td>\n",
       "    </tr>\n",
       "    <tr>\n",
       "      <th>14</th>\n",
       "      <td>Tools</td>\n",
       "    </tr>\n",
       "    <tr>\n",
       "      <th>15</th>\n",
       "      <td>Print/export</td>\n",
       "    </tr>\n",
       "    <tr>\n",
       "      <th>16</th>\n",
       "      <td>In other projects</td>\n",
       "    </tr>\n",
       "    <tr>\n",
       "      <th>17</th>\n",
       "      <td>Languages</td>\n",
       "    </tr>\n",
       "  </tbody>\n",
       "</table>\n",
       "</div>"
      ],
      "text/plain": [
       "                          headers\n",
       "0                       Main Page\n",
       "1   From today's featured article\n",
       "2                Did you know ...\n",
       "3                     In the news\n",
       "4                     On this day\n",
       "5        Today's featured picture\n",
       "6        Other areas of Wikipedia\n",
       "7     Wikipedia's sister projects\n",
       "8             Wikipedia languages\n",
       "9                  Personal tools\n",
       "10                     Namespaces\n",
       "11                          Views\n",
       "12                     Navigation\n",
       "13                     Contribute\n",
       "14                          Tools\n",
       "15                   Print/export\n",
       "16              In other projects\n",
       "17                      Languages"
      ]
     },
     "execution_count": 251,
     "metadata": {},
     "output_type": "execute_result"
    }
   ],
   "source": [
    "df"
   ]
  },
  {
   "cell_type": "markdown",
   "id": "a62d9fcf",
   "metadata": {},
   "source": [
    "## IMDB Films"
   ]
  },
  {
   "cell_type": "code",
   "execution_count": 252,
   "id": "5a4a0e7b",
   "metadata": {},
   "outputs": [],
   "source": [
    "web2 = requests.get('https://www.imdb.com/search/title/?groups=top_100&sort=user_rating,desc')"
   ]
  },
  {
   "cell_type": "code",
   "execution_count": 253,
   "id": "3df6e60f",
   "metadata": {},
   "outputs": [
    {
     "data": {
      "text/plain": [
       "<Response [200]>"
      ]
     },
     "execution_count": 253,
     "metadata": {},
     "output_type": "execute_result"
    }
   ],
   "source": [
    "web2"
   ]
  },
  {
   "cell_type": "code",
   "execution_count": 254,
   "id": "5eb56b8a",
   "metadata": {},
   "outputs": [],
   "source": [
    "bs= BeautifulSoup(web2.content)"
   ]
  },
  {
   "cell_type": "code",
   "execution_count": 255,
   "id": "9dfcac08",
   "metadata": {},
   "outputs": [],
   "source": [
    "titles= []\n",
    "for i in bs.find_all('h3',class_='lister-item-header'):\n",
    "    titles.append(i.text.split('|')[0])"
   ]
  },
  {
   "cell_type": "code",
   "execution_count": 256,
   "id": "197bb88b",
   "metadata": {},
   "outputs": [
    {
     "data": {
      "text/plain": [
       "['\\n1.\\nThe Shawshank Redemption\\n(1994)\\n',\n",
       " '\\n2.\\nThe Godfather\\n(1972)\\n',\n",
       " '\\n3.\\nThe Dark Knight\\n(2008)\\n',\n",
       " '\\n4.\\nThe Lord of the Rings: The Return of the King\\n(2003)\\n',\n",
       " \"\\n5.\\nSchindler's List\\n(1993)\\n\",\n",
       " '\\n6.\\nThe Godfather Part II\\n(1974)\\n',\n",
       " '\\n7.\\n12 Angry Men\\n(1957)\\n',\n",
       " '\\n8.\\nPulp Fiction\\n(1994)\\n',\n",
       " '\\n9.\\nInception\\n(2010)\\n',\n",
       " '\\n10.\\nThe Lord of the Rings: The Two Towers\\n(2002)\\n',\n",
       " '\\n11.\\nFight Club\\n(1999)\\n',\n",
       " '\\n12.\\nThe Lord of the Rings: The Fellowship of the Ring\\n(2001)\\n',\n",
       " '\\n13.\\nForrest Gump\\n(1994)\\n',\n",
       " '\\n14.\\nIl buono, il brutto, il cattivo\\n(1966)\\n',\n",
       " '\\n15.\\nThe Matrix\\n(1999)\\n',\n",
       " '\\n16.\\nGoodfellas\\n(1990)\\n',\n",
       " '\\n17.\\nThe Empire Strikes Back\\n(1980)\\n',\n",
       " \"\\n18.\\nOne Flew Over the Cuckoo's Nest\\n(1975)\\n\",\n",
       " '\\n19.\\nInterstellar\\n(2014)\\n',\n",
       " '\\n20.\\nCidade de Deus\\n(2002)\\n',\n",
       " '\\n21.\\nSen to Chihiro no kamikakushi\\n(2001)\\n',\n",
       " '\\n22.\\nSaving Private Ryan\\n(1998)\\n',\n",
       " '\\n23.\\nThe Green Mile\\n(1999)\\n',\n",
       " '\\n24.\\nLa vita è bella\\n(1997)\\n',\n",
       " '\\n25.\\nSe7en\\n(1995)\\n',\n",
       " '\\n26.\\nTerminator 2: Judgment Day\\n(1991)\\n',\n",
       " '\\n27.\\nThe Silence of the Lambs\\n(1991)\\n',\n",
       " '\\n28.\\nStar Wars\\n(1977)\\n',\n",
       " '\\n29.\\nSeppuku\\n(1962)\\n',\n",
       " '\\n30.\\nShichinin no samurai\\n(1954)\\n',\n",
       " \"\\n31.\\nIt's a Wonderful Life\\n(1946)\\n\",\n",
       " '\\n32.\\nGisaengchung\\n(2019)\\n',\n",
       " '\\n33.\\nWhiplash\\n(2014)\\n',\n",
       " '\\n34.\\nThe Intouchables\\n(2011)\\n',\n",
       " '\\n35.\\nThe Prestige\\n(2006)\\n',\n",
       " '\\n36.\\nThe Departed\\n(2006)\\n',\n",
       " '\\n37.\\nThe Pianist\\n(2002)\\n',\n",
       " '\\n38.\\nGladiator\\n(2000)\\n',\n",
       " '\\n39.\\nAmerican History X\\n(1998)\\n',\n",
       " '\\n40.\\nThe Usual Suspects\\n(1995)\\n',\n",
       " '\\n41.\\nLéon\\n(1994)\\n',\n",
       " '\\n42.\\nThe Lion King\\n(1994)\\n',\n",
       " '\\n43.\\nNuovo Cinema Paradiso\\n(1988)\\n',\n",
       " '\\n44.\\nHotaru no haka\\n(1988)\\n',\n",
       " '\\n45.\\nBack to the Future\\n(1985)\\n',\n",
       " '\\n46.\\nApocalypse Now\\n(1979)\\n',\n",
       " '\\n47.\\nAlien\\n(1979)\\n',\n",
       " '\\n48.\\nOnce Upon a Time in the West\\n(1968)\\n',\n",
       " '\\n49.\\nPsycho\\n(1960)\\n',\n",
       " '\\n50.\\nRear Window\\n(1954)\\n']"
      ]
     },
     "execution_count": 256,
     "metadata": {},
     "output_type": "execute_result"
    }
   ],
   "source": [
    "titles"
   ]
  },
  {
   "cell_type": "code",
   "execution_count": 257,
   "id": "898d07d1",
   "metadata": {},
   "outputs": [],
   "source": [
    "titles = [x.replace('\\n', '')for x in titles]"
   ]
  },
  {
   "cell_type": "code",
   "execution_count": 258,
   "id": "9fbac522",
   "metadata": {},
   "outputs": [
    {
     "data": {
      "text/plain": [
       "['1.The Shawshank Redemption(1994)',\n",
       " '2.The Godfather(1972)',\n",
       " '3.The Dark Knight(2008)',\n",
       " '4.The Lord of the Rings: The Return of the King(2003)',\n",
       " \"5.Schindler's List(1993)\",\n",
       " '6.The Godfather Part II(1974)',\n",
       " '7.12 Angry Men(1957)',\n",
       " '8.Pulp Fiction(1994)',\n",
       " '9.Inception(2010)',\n",
       " '10.The Lord of the Rings: The Two Towers(2002)',\n",
       " '11.Fight Club(1999)',\n",
       " '12.The Lord of the Rings: The Fellowship of the Ring(2001)',\n",
       " '13.Forrest Gump(1994)',\n",
       " '14.Il buono, il brutto, il cattivo(1966)',\n",
       " '15.The Matrix(1999)',\n",
       " '16.Goodfellas(1990)',\n",
       " '17.The Empire Strikes Back(1980)',\n",
       " \"18.One Flew Over the Cuckoo's Nest(1975)\",\n",
       " '19.Interstellar(2014)',\n",
       " '20.Cidade de Deus(2002)',\n",
       " '21.Sen to Chihiro no kamikakushi(2001)',\n",
       " '22.Saving Private Ryan(1998)',\n",
       " '23.The Green Mile(1999)',\n",
       " '24.La vita è bella(1997)',\n",
       " '25.Se7en(1995)',\n",
       " '26.Terminator 2: Judgment Day(1991)',\n",
       " '27.The Silence of the Lambs(1991)',\n",
       " '28.Star Wars(1977)',\n",
       " '29.Seppuku(1962)',\n",
       " '30.Shichinin no samurai(1954)',\n",
       " \"31.It's a Wonderful Life(1946)\",\n",
       " '32.Gisaengchung(2019)',\n",
       " '33.Whiplash(2014)',\n",
       " '34.The Intouchables(2011)',\n",
       " '35.The Prestige(2006)',\n",
       " '36.The Departed(2006)',\n",
       " '37.The Pianist(2002)',\n",
       " '38.Gladiator(2000)',\n",
       " '39.American History X(1998)',\n",
       " '40.The Usual Suspects(1995)',\n",
       " '41.Léon(1994)',\n",
       " '42.The Lion King(1994)',\n",
       " '43.Nuovo Cinema Paradiso(1988)',\n",
       " '44.Hotaru no haka(1988)',\n",
       " '45.Back to the Future(1985)',\n",
       " '46.Apocalypse Now(1979)',\n",
       " '47.Alien(1979)',\n",
       " '48.Once Upon a Time in the West(1968)',\n",
       " '49.Psycho(1960)',\n",
       " '50.Rear Window(1954)']"
      ]
     },
     "execution_count": 258,
     "metadata": {},
     "output_type": "execute_result"
    }
   ],
   "source": [
    "titles"
   ]
  },
  {
   "cell_type": "code",
   "execution_count": 259,
   "id": "a3dc4530",
   "metadata": {},
   "outputs": [],
   "source": [
    "year= []\n",
    "for i in bs.find_all('span',class_='lister-item-year text-muted unbold'):\n",
    "    year.append(i.text)"
   ]
  },
  {
   "cell_type": "code",
   "execution_count": 260,
   "id": "f3146dc7",
   "metadata": {},
   "outputs": [
    {
     "data": {
      "text/plain": [
       "['(1994)',\n",
       " '(1972)',\n",
       " '(2008)',\n",
       " '(2003)',\n",
       " '(1993)',\n",
       " '(1974)',\n",
       " '(1957)',\n",
       " '(1994)',\n",
       " '(2010)',\n",
       " '(2002)',\n",
       " '(1999)',\n",
       " '(2001)',\n",
       " '(1994)',\n",
       " '(1966)',\n",
       " '(1999)',\n",
       " '(1990)',\n",
       " '(1980)',\n",
       " '(1975)',\n",
       " '(2014)',\n",
       " '(2002)',\n",
       " '(2001)',\n",
       " '(1998)',\n",
       " '(1999)',\n",
       " '(1997)',\n",
       " '(1995)',\n",
       " '(1991)',\n",
       " '(1991)',\n",
       " '(1977)',\n",
       " '(1962)',\n",
       " '(1954)',\n",
       " '(1946)',\n",
       " '(2019)',\n",
       " '(2014)',\n",
       " '(2011)',\n",
       " '(2006)',\n",
       " '(2006)',\n",
       " '(2002)',\n",
       " '(2000)',\n",
       " '(1998)',\n",
       " '(1995)',\n",
       " '(1994)',\n",
       " '(1994)',\n",
       " '(1988)',\n",
       " '(1988)',\n",
       " '(1985)',\n",
       " '(1979)',\n",
       " '(1979)',\n",
       " '(1968)',\n",
       " '(1960)',\n",
       " '(1954)']"
      ]
     },
     "execution_count": 260,
     "metadata": {},
     "output_type": "execute_result"
    }
   ],
   "source": [
    "year"
   ]
  },
  {
   "cell_type": "code",
   "execution_count": 261,
   "id": "4da21074",
   "metadata": {},
   "outputs": [
    {
     "data": {
      "text/plain": [
       "50"
      ]
     },
     "execution_count": 261,
     "metadata": {},
     "output_type": "execute_result"
    }
   ],
   "source": [
    "len(year)"
   ]
  },
  {
   "cell_type": "code",
   "execution_count": 265,
   "id": "8f3d5134",
   "metadata": {},
   "outputs": [],
   "source": [
    "ratings=[]\n",
    "for i in bs.find_all('div', class_='inline-block ratings-imdb-rating'):\n",
    "    ratings.append(i.text.split('|')[0])"
   ]
  },
  {
   "cell_type": "code",
   "execution_count": 266,
   "id": "44922c4a",
   "metadata": {},
   "outputs": [],
   "source": [
    "ratings = [i.replace('\\n','') for i in ratings]"
   ]
  },
  {
   "cell_type": "code",
   "execution_count": 268,
   "id": "b4a2b892",
   "metadata": {},
   "outputs": [],
   "source": [
    "df2 = pd.DataFrame({'title':titles,'year of release':year,'rating':ratings})"
   ]
  },
  {
   "cell_type": "code",
   "execution_count": 269,
   "id": "45f2e248",
   "metadata": {
    "scrolled": true
   },
   "outputs": [
    {
     "data": {
      "text/html": [
       "<div>\n",
       "<style scoped>\n",
       "    .dataframe tbody tr th:only-of-type {\n",
       "        vertical-align: middle;\n",
       "    }\n",
       "\n",
       "    .dataframe tbody tr th {\n",
       "        vertical-align: top;\n",
       "    }\n",
       "\n",
       "    .dataframe thead th {\n",
       "        text-align: right;\n",
       "    }\n",
       "</style>\n",
       "<table border=\"1\" class=\"dataframe\">\n",
       "  <thead>\n",
       "    <tr style=\"text-align: right;\">\n",
       "      <th></th>\n",
       "      <th>title</th>\n",
       "      <th>year of release</th>\n",
       "      <th>rating</th>\n",
       "    </tr>\n",
       "  </thead>\n",
       "  <tbody>\n",
       "    <tr>\n",
       "      <th>0</th>\n",
       "      <td>1.The Shawshank Redemption(1994)</td>\n",
       "      <td>(1994)</td>\n",
       "      <td>9.3</td>\n",
       "    </tr>\n",
       "    <tr>\n",
       "      <th>1</th>\n",
       "      <td>2.The Godfather(1972)</td>\n",
       "      <td>(1972)</td>\n",
       "      <td>9.2</td>\n",
       "    </tr>\n",
       "    <tr>\n",
       "      <th>2</th>\n",
       "      <td>3.The Dark Knight(2008)</td>\n",
       "      <td>(2008)</td>\n",
       "      <td>9.0</td>\n",
       "    </tr>\n",
       "    <tr>\n",
       "      <th>3</th>\n",
       "      <td>4.The Lord of the Rings: The Return of the Kin...</td>\n",
       "      <td>(2003)</td>\n",
       "      <td>9.0</td>\n",
       "    </tr>\n",
       "    <tr>\n",
       "      <th>4</th>\n",
       "      <td>5.Schindler's List(1993)</td>\n",
       "      <td>(1993)</td>\n",
       "      <td>9.0</td>\n",
       "    </tr>\n",
       "    <tr>\n",
       "      <th>5</th>\n",
       "      <td>6.The Godfather Part II(1974)</td>\n",
       "      <td>(1974)</td>\n",
       "      <td>9.0</td>\n",
       "    </tr>\n",
       "    <tr>\n",
       "      <th>6</th>\n",
       "      <td>7.12 Angry Men(1957)</td>\n",
       "      <td>(1957)</td>\n",
       "      <td>9.0</td>\n",
       "    </tr>\n",
       "    <tr>\n",
       "      <th>7</th>\n",
       "      <td>8.Pulp Fiction(1994)</td>\n",
       "      <td>(1994)</td>\n",
       "      <td>8.9</td>\n",
       "    </tr>\n",
       "    <tr>\n",
       "      <th>8</th>\n",
       "      <td>9.Inception(2010)</td>\n",
       "      <td>(2010)</td>\n",
       "      <td>8.8</td>\n",
       "    </tr>\n",
       "    <tr>\n",
       "      <th>9</th>\n",
       "      <td>10.The Lord of the Rings: The Two Towers(2002)</td>\n",
       "      <td>(2002)</td>\n",
       "      <td>8.8</td>\n",
       "    </tr>\n",
       "    <tr>\n",
       "      <th>10</th>\n",
       "      <td>11.Fight Club(1999)</td>\n",
       "      <td>(1999)</td>\n",
       "      <td>8.8</td>\n",
       "    </tr>\n",
       "    <tr>\n",
       "      <th>11</th>\n",
       "      <td>12.The Lord of the Rings: The Fellowship of th...</td>\n",
       "      <td>(2001)</td>\n",
       "      <td>8.8</td>\n",
       "    </tr>\n",
       "    <tr>\n",
       "      <th>12</th>\n",
       "      <td>13.Forrest Gump(1994)</td>\n",
       "      <td>(1994)</td>\n",
       "      <td>8.8</td>\n",
       "    </tr>\n",
       "    <tr>\n",
       "      <th>13</th>\n",
       "      <td>14.Il buono, il brutto, il cattivo(1966)</td>\n",
       "      <td>(1966)</td>\n",
       "      <td>8.8</td>\n",
       "    </tr>\n",
       "    <tr>\n",
       "      <th>14</th>\n",
       "      <td>15.The Matrix(1999)</td>\n",
       "      <td>(1999)</td>\n",
       "      <td>8.7</td>\n",
       "    </tr>\n",
       "    <tr>\n",
       "      <th>15</th>\n",
       "      <td>16.Goodfellas(1990)</td>\n",
       "      <td>(1990)</td>\n",
       "      <td>8.7</td>\n",
       "    </tr>\n",
       "    <tr>\n",
       "      <th>16</th>\n",
       "      <td>17.The Empire Strikes Back(1980)</td>\n",
       "      <td>(1980)</td>\n",
       "      <td>8.7</td>\n",
       "    </tr>\n",
       "    <tr>\n",
       "      <th>17</th>\n",
       "      <td>18.One Flew Over the Cuckoo's Nest(1975)</td>\n",
       "      <td>(1975)</td>\n",
       "      <td>8.7</td>\n",
       "    </tr>\n",
       "    <tr>\n",
       "      <th>18</th>\n",
       "      <td>19.Interstellar(2014)</td>\n",
       "      <td>(2014)</td>\n",
       "      <td>8.6</td>\n",
       "    </tr>\n",
       "    <tr>\n",
       "      <th>19</th>\n",
       "      <td>20.Cidade de Deus(2002)</td>\n",
       "      <td>(2002)</td>\n",
       "      <td>8.6</td>\n",
       "    </tr>\n",
       "    <tr>\n",
       "      <th>20</th>\n",
       "      <td>21.Sen to Chihiro no kamikakushi(2001)</td>\n",
       "      <td>(2001)</td>\n",
       "      <td>8.6</td>\n",
       "    </tr>\n",
       "    <tr>\n",
       "      <th>21</th>\n",
       "      <td>22.Saving Private Ryan(1998)</td>\n",
       "      <td>(1998)</td>\n",
       "      <td>8.6</td>\n",
       "    </tr>\n",
       "    <tr>\n",
       "      <th>22</th>\n",
       "      <td>23.The Green Mile(1999)</td>\n",
       "      <td>(1999)</td>\n",
       "      <td>8.6</td>\n",
       "    </tr>\n",
       "    <tr>\n",
       "      <th>23</th>\n",
       "      <td>24.La vita è bella(1997)</td>\n",
       "      <td>(1997)</td>\n",
       "      <td>8.6</td>\n",
       "    </tr>\n",
       "    <tr>\n",
       "      <th>24</th>\n",
       "      <td>25.Se7en(1995)</td>\n",
       "      <td>(1995)</td>\n",
       "      <td>8.6</td>\n",
       "    </tr>\n",
       "    <tr>\n",
       "      <th>25</th>\n",
       "      <td>26.Terminator 2: Judgment Day(1991)</td>\n",
       "      <td>(1991)</td>\n",
       "      <td>8.6</td>\n",
       "    </tr>\n",
       "    <tr>\n",
       "      <th>26</th>\n",
       "      <td>27.The Silence of the Lambs(1991)</td>\n",
       "      <td>(1991)</td>\n",
       "      <td>8.6</td>\n",
       "    </tr>\n",
       "    <tr>\n",
       "      <th>27</th>\n",
       "      <td>28.Star Wars(1977)</td>\n",
       "      <td>(1977)</td>\n",
       "      <td>8.6</td>\n",
       "    </tr>\n",
       "    <tr>\n",
       "      <th>28</th>\n",
       "      <td>29.Seppuku(1962)</td>\n",
       "      <td>(1962)</td>\n",
       "      <td>8.6</td>\n",
       "    </tr>\n",
       "    <tr>\n",
       "      <th>29</th>\n",
       "      <td>30.Shichinin no samurai(1954)</td>\n",
       "      <td>(1954)</td>\n",
       "      <td>8.6</td>\n",
       "    </tr>\n",
       "    <tr>\n",
       "      <th>30</th>\n",
       "      <td>31.It's a Wonderful Life(1946)</td>\n",
       "      <td>(1946)</td>\n",
       "      <td>8.6</td>\n",
       "    </tr>\n",
       "    <tr>\n",
       "      <th>31</th>\n",
       "      <td>32.Gisaengchung(2019)</td>\n",
       "      <td>(2019)</td>\n",
       "      <td>8.5</td>\n",
       "    </tr>\n",
       "    <tr>\n",
       "      <th>32</th>\n",
       "      <td>33.Whiplash(2014)</td>\n",
       "      <td>(2014)</td>\n",
       "      <td>8.5</td>\n",
       "    </tr>\n",
       "    <tr>\n",
       "      <th>33</th>\n",
       "      <td>34.The Intouchables(2011)</td>\n",
       "      <td>(2011)</td>\n",
       "      <td>8.5</td>\n",
       "    </tr>\n",
       "    <tr>\n",
       "      <th>34</th>\n",
       "      <td>35.The Prestige(2006)</td>\n",
       "      <td>(2006)</td>\n",
       "      <td>8.5</td>\n",
       "    </tr>\n",
       "    <tr>\n",
       "      <th>35</th>\n",
       "      <td>36.The Departed(2006)</td>\n",
       "      <td>(2006)</td>\n",
       "      <td>8.5</td>\n",
       "    </tr>\n",
       "    <tr>\n",
       "      <th>36</th>\n",
       "      <td>37.The Pianist(2002)</td>\n",
       "      <td>(2002)</td>\n",
       "      <td>8.5</td>\n",
       "    </tr>\n",
       "    <tr>\n",
       "      <th>37</th>\n",
       "      <td>38.Gladiator(2000)</td>\n",
       "      <td>(2000)</td>\n",
       "      <td>8.5</td>\n",
       "    </tr>\n",
       "    <tr>\n",
       "      <th>38</th>\n",
       "      <td>39.American History X(1998)</td>\n",
       "      <td>(1998)</td>\n",
       "      <td>8.5</td>\n",
       "    </tr>\n",
       "    <tr>\n",
       "      <th>39</th>\n",
       "      <td>40.The Usual Suspects(1995)</td>\n",
       "      <td>(1995)</td>\n",
       "      <td>8.5</td>\n",
       "    </tr>\n",
       "    <tr>\n",
       "      <th>40</th>\n",
       "      <td>41.Léon(1994)</td>\n",
       "      <td>(1994)</td>\n",
       "      <td>8.5</td>\n",
       "    </tr>\n",
       "    <tr>\n",
       "      <th>41</th>\n",
       "      <td>42.The Lion King(1994)</td>\n",
       "      <td>(1994)</td>\n",
       "      <td>8.5</td>\n",
       "    </tr>\n",
       "    <tr>\n",
       "      <th>42</th>\n",
       "      <td>43.Nuovo Cinema Paradiso(1988)</td>\n",
       "      <td>(1988)</td>\n",
       "      <td>8.5</td>\n",
       "    </tr>\n",
       "    <tr>\n",
       "      <th>43</th>\n",
       "      <td>44.Hotaru no haka(1988)</td>\n",
       "      <td>(1988)</td>\n",
       "      <td>8.5</td>\n",
       "    </tr>\n",
       "    <tr>\n",
       "      <th>44</th>\n",
       "      <td>45.Back to the Future(1985)</td>\n",
       "      <td>(1985)</td>\n",
       "      <td>8.5</td>\n",
       "    </tr>\n",
       "    <tr>\n",
       "      <th>45</th>\n",
       "      <td>46.Apocalypse Now(1979)</td>\n",
       "      <td>(1979)</td>\n",
       "      <td>8.5</td>\n",
       "    </tr>\n",
       "    <tr>\n",
       "      <th>46</th>\n",
       "      <td>47.Alien(1979)</td>\n",
       "      <td>(1979)</td>\n",
       "      <td>8.5</td>\n",
       "    </tr>\n",
       "    <tr>\n",
       "      <th>47</th>\n",
       "      <td>48.Once Upon a Time in the West(1968)</td>\n",
       "      <td>(1968)</td>\n",
       "      <td>8.5</td>\n",
       "    </tr>\n",
       "    <tr>\n",
       "      <th>48</th>\n",
       "      <td>49.Psycho(1960)</td>\n",
       "      <td>(1960)</td>\n",
       "      <td>8.5</td>\n",
       "    </tr>\n",
       "    <tr>\n",
       "      <th>49</th>\n",
       "      <td>50.Rear Window(1954)</td>\n",
       "      <td>(1954)</td>\n",
       "      <td>8.5</td>\n",
       "    </tr>\n",
       "  </tbody>\n",
       "</table>\n",
       "</div>"
      ],
      "text/plain": [
       "                                                title year of release rating\n",
       "0                    1.The Shawshank Redemption(1994)          (1994)    9.3\n",
       "1                               2.The Godfather(1972)          (1972)    9.2\n",
       "2                             3.The Dark Knight(2008)          (2008)    9.0\n",
       "3   4.The Lord of the Rings: The Return of the Kin...          (2003)    9.0\n",
       "4                            5.Schindler's List(1993)          (1993)    9.0\n",
       "5                       6.The Godfather Part II(1974)          (1974)    9.0\n",
       "6                                7.12 Angry Men(1957)          (1957)    9.0\n",
       "7                                8.Pulp Fiction(1994)          (1994)    8.9\n",
       "8                                   9.Inception(2010)          (2010)    8.8\n",
       "9      10.The Lord of the Rings: The Two Towers(2002)          (2002)    8.8\n",
       "10                                11.Fight Club(1999)          (1999)    8.8\n",
       "11  12.The Lord of the Rings: The Fellowship of th...          (2001)    8.8\n",
       "12                              13.Forrest Gump(1994)          (1994)    8.8\n",
       "13           14.Il buono, il brutto, il cattivo(1966)          (1966)    8.8\n",
       "14                                15.The Matrix(1999)          (1999)    8.7\n",
       "15                                16.Goodfellas(1990)          (1990)    8.7\n",
       "16                   17.The Empire Strikes Back(1980)          (1980)    8.7\n",
       "17           18.One Flew Over the Cuckoo's Nest(1975)          (1975)    8.7\n",
       "18                              19.Interstellar(2014)          (2014)    8.6\n",
       "19                            20.Cidade de Deus(2002)          (2002)    8.6\n",
       "20             21.Sen to Chihiro no kamikakushi(2001)          (2001)    8.6\n",
       "21                       22.Saving Private Ryan(1998)          (1998)    8.6\n",
       "22                            23.The Green Mile(1999)          (1999)    8.6\n",
       "23                           24.La vita è bella(1997)          (1997)    8.6\n",
       "24                                     25.Se7en(1995)          (1995)    8.6\n",
       "25                26.Terminator 2: Judgment Day(1991)          (1991)    8.6\n",
       "26                  27.The Silence of the Lambs(1991)          (1991)    8.6\n",
       "27                                 28.Star Wars(1977)          (1977)    8.6\n",
       "28                                   29.Seppuku(1962)          (1962)    8.6\n",
       "29                      30.Shichinin no samurai(1954)          (1954)    8.6\n",
       "30                     31.It's a Wonderful Life(1946)          (1946)    8.6\n",
       "31                              32.Gisaengchung(2019)          (2019)    8.5\n",
       "32                                  33.Whiplash(2014)          (2014)    8.5\n",
       "33                          34.The Intouchables(2011)          (2011)    8.5\n",
       "34                              35.The Prestige(2006)          (2006)    8.5\n",
       "35                              36.The Departed(2006)          (2006)    8.5\n",
       "36                               37.The Pianist(2002)          (2002)    8.5\n",
       "37                                 38.Gladiator(2000)          (2000)    8.5\n",
       "38                        39.American History X(1998)          (1998)    8.5\n",
       "39                        40.The Usual Suspects(1995)          (1995)    8.5\n",
       "40                                      41.Léon(1994)          (1994)    8.5\n",
       "41                             42.The Lion King(1994)          (1994)    8.5\n",
       "42                     43.Nuovo Cinema Paradiso(1988)          (1988)    8.5\n",
       "43                            44.Hotaru no haka(1988)          (1988)    8.5\n",
       "44                        45.Back to the Future(1985)          (1985)    8.5\n",
       "45                            46.Apocalypse Now(1979)          (1979)    8.5\n",
       "46                                     47.Alien(1979)          (1979)    8.5\n",
       "47              48.Once Upon a Time in the West(1968)          (1968)    8.5\n",
       "48                                    49.Psycho(1960)          (1960)    8.5\n",
       "49                               50.Rear Window(1954)          (1954)    8.5"
      ]
     },
     "execution_count": 269,
     "metadata": {},
     "output_type": "execute_result"
    }
   ],
   "source": [
    "df2"
   ]
  },
  {
   "cell_type": "code",
   "execution_count": 270,
   "id": "810ee2d6",
   "metadata": {},
   "outputs": [
    {
     "data": {
      "text/plain": [
       "(50, 3)"
      ]
     },
     "execution_count": 270,
     "metadata": {},
     "output_type": "execute_result"
    }
   ],
   "source": [
    "df2.shape"
   ]
  },
  {
   "cell_type": "markdown",
   "id": "81f0fc38",
   "metadata": {},
   "source": [
    "## IMDB TOP 100 INDIAN FILMS"
   ]
  },
  {
   "cell_type": "code",
   "execution_count": 271,
   "id": "464ce195",
   "metadata": {},
   "outputs": [],
   "source": [
    "web3 = requests.get('https://www.imdb.com/list/ls561664100/')"
   ]
  },
  {
   "cell_type": "code",
   "execution_count": 272,
   "id": "6b74c7dc",
   "metadata": {},
   "outputs": [
    {
     "data": {
      "text/plain": [
       "<Response [200]>"
      ]
     },
     "execution_count": 272,
     "metadata": {},
     "output_type": "execute_result"
    }
   ],
   "source": [
    "web3"
   ]
  },
  {
   "cell_type": "code",
   "execution_count": 273,
   "id": "10538e4b",
   "metadata": {},
   "outputs": [],
   "source": [
    "bs = BeautifulSoup(web3.content)"
   ]
  },
  {
   "cell_type": "code",
   "execution_count": 274,
   "id": "6350f0ec",
   "metadata": {},
   "outputs": [],
   "source": [
    "name=[]\n",
    "for i in bs.find_all('h3',class_='lister-item-header'):\n",
    "    name.append(i.text.split('|')[0])"
   ]
  },
  {
   "cell_type": "code",
   "execution_count": 275,
   "id": "5fbdd0cd",
   "metadata": {},
   "outputs": [
    {
     "data": {
      "text/plain": [
       "['\\n1.\\nGangs of Wasseypur\\n(2012)\\n',\n",
       " '\\n2.\\nMasaan\\n(2015)\\n',\n",
       " '\\n3.\\nShip of Theseus\\n(2012)\\n',\n",
       " '\\n4.\\nBlack Friday\\n(2004)\\n',\n",
       " '\\n5.\\nUdaan\\n(2010)\\n',\n",
       " '\\n6.\\nSardar Udham\\n(2021)\\n',\n",
       " '\\n7.\\nHaider\\n(2014)\\n',\n",
       " '\\n8.\\nThe Lunchbox\\n(2013)\\n',\n",
       " '\\n9.\\nOmkara\\n(2006)\\n',\n",
       " '\\n10.\\n3 Idiots\\n(2009)\\n',\n",
       " '\\n11.\\nZindagi Na Milegi Dobara\\n(2011)\\n',\n",
       " '\\n12.\\nSwades: We, the People\\n(2004)\\n',\n",
       " '\\n13.\\nShahid\\n(2012)\\n',\n",
       " '\\n14.\\nAnkhon Dekhi\\n(2013)\\n',\n",
       " '\\n15.\\nAligarh\\n(2015)\\n',\n",
       " '\\n16.\\nAndhadhun\\n(2018)\\n',\n",
       " '\\n17.\\nMaqbool\\n(2003)\\n',\n",
       " '\\n18.\\nTaare Zameen Par\\n(2007)\\n',\n",
       " '\\n19.\\nSonchiriya\\n(2019)\\n',\n",
       " '\\n20.\\nGulaal\\n(2009)\\n',\n",
       " '\\n21.\\nRaincoat\\n(2004)\\n',\n",
       " '\\n22.\\nLootera\\n(I) (2013)\\n',\n",
       " '\\n23.\\nLagaan: Once Upon a Time in India\\n(2001)\\n',\n",
       " '\\n24.\\nKhosla Ka Ghosla!\\n(2006)\\n',\n",
       " '\\n25.\\nDangal\\n(2016)\\n',\n",
       " '\\n26.\\nA Death in the Gunj\\n(2016)\\n',\n",
       " '\\n27.\\nTalvar\\n(2015)\\n',\n",
       " '\\n28.\\nDev.D\\n(2009)\\n',\n",
       " '\\n29.\\nJohnny Gaddaar\\n(2007)\\n',\n",
       " '\\n30.\\nUgly\\n(2013)\\n',\n",
       " '\\n31.\\nKahaani\\n(2012)\\n',\n",
       " '\\n32.\\nBadhaai Do\\n(2022)\\n',\n",
       " '\\n33.\\nTumbbad\\n(2018)\\n',\n",
       " '\\n34.\\nHera Pheri\\n(2000)\\n',\n",
       " '\\n35.\\nDrishyam\\n(2015)\\n',\n",
       " '\\n36.\\nVeer-Zaara\\n(2004)\\n',\n",
       " '\\n37.\\nBarfi!\\n(2012)\\n',\n",
       " '\\n38.\\nHighway\\n(I) (2014)\\n',\n",
       " '\\n39.\\nRang De Basanti\\n(2006)\\n',\n",
       " '\\n40.\\nDor\\n(2006)\\n',\n",
       " '\\n41.\\nHazaaron Khwaishein Aisi\\n(2003)\\n',\n",
       " '\\n42.\\nChak De! India\\n(2007)\\n',\n",
       " '\\n43.\\nSir\\n(I) (2018)\\n',\n",
       " '\\n44.\\nQueen\\n(2013)\\n',\n",
       " '\\n45.\\nOctober\\n(II) (2018)\\n',\n",
       " '\\n46.\\nBlack\\n(2005)\\n',\n",
       " '\\n47.\\nJab We Met\\n(2007)\\n',\n",
       " '\\n48.\\nPiku\\n(2015)\\n',\n",
       " '\\n49.\\nKadvi Hawa\\n(2017)\\n',\n",
       " '\\n50.\\nKapoor & Sons\\n(2016)\\n',\n",
       " '\\n51.\\nTitli\\n(2014)\\n',\n",
       " '\\n52.\\nTu Hai Mera Sunday\\n(2016)\\n',\n",
       " '\\n53.\\nNewton\\n(2017)\\n',\n",
       " '\\n54.\\nPaan Singh Tomar\\n(2012)\\n',\n",
       " '\\n55.\\nMukkabaaz\\n(2017)\\n',\n",
       " '\\n56.\\nDevdas\\n(I) (2002)\\n',\n",
       " '\\n57.\\nPK\\n(2014)\\n',\n",
       " '\\n58.\\nStanley Ka Dabba\\n(2011)\\n',\n",
       " '\\n59.\\nDil Chahta Hai\\n(2001)\\n',\n",
       " '\\n60.\\nPink\\n(III) (2016)\\n',\n",
       " '\\n61.\\nNo Smoking\\n(2007)\\n',\n",
       " '\\n62.\\nKal Ho Naa Ho\\n(2003)\\n',\n",
       " '\\n63.\\nParched\\n(2015)\\n',\n",
       " '\\n64.\\nEnglish Vinglish\\n(2012)\\n',\n",
       " '\\n65.\\nMonsoon Wedding\\n(2001)\\n',\n",
       " '\\n66.\\n1971\\n(2007)\\n',\n",
       " '\\n67.\\nCompany\\n(2002)\\n',\n",
       " '\\n68.\\nWater\\n(I) (2005)\\n',\n",
       " '\\n69.\\nArticle 15\\n(2019)\\n',\n",
       " '\\n70.\\nRockstar\\n(2011)\\n',\n",
       " '\\n71.\\nOye Lucky! Lucky Oye!\\n(2008)\\n',\n",
       " '\\n72.\\nOm Shanti Om\\n(2007)\\n',\n",
       " '\\n73.\\nBajrangi Bhaijaan\\n(2015)\\n',\n",
       " '\\n74.\\nJhund\\n(2022)\\n',\n",
       " '\\n75.\\nMunna Bhai M.B.B.S.\\n(2003)\\n',\n",
       " '\\n76.\\nDelhi Belly\\n(2011)\\n',\n",
       " '\\n77.\\nKabhi Khushi Kabhie Gham...\\n(2001)\\n',\n",
       " '\\n78.\\nManto\\n(2018)\\n',\n",
       " '\\n79.\\nUdta Punjab\\n(2016)\\n',\n",
       " '\\n80.\\nMukti Bhawan\\n(2016)\\n',\n",
       " '\\n81.\\nIqbal\\n(2005)\\n',\n",
       " '\\n82.\\nFiraaq\\n(2008)\\n',\n",
       " '\\n83.\\nAb Tak Chhappan\\n(2004)\\n',\n",
       " '\\n84.\\nGully Boy\\n(2019)\\n',\n",
       " '\\n85.\\nMy Name Is Khan\\n(2010)\\n',\n",
       " '\\n86.\\nRK/RKAY\\n(2021)\\n',\n",
       " '\\n87.\\nBhaag Milkha Bhaag\\n(2013)\\n',\n",
       " '\\n88.\\nWake Up Sid\\n(2009)\\n',\n",
       " '\\n89.\\nRaazi\\n(2018)\\n',\n",
       " '\\n90.\\nPeepli [Live]\\n(2010)\\n',\n",
       " '\\n91.\\nThe Sky Is Pink\\n(2019)\\n',\n",
       " '\\n92.\\nGangubai Kathiawadi\\n(2022)\\n',\n",
       " '\\n93.\\nThappad\\n(2020)\\n',\n",
       " '\\n94.\\nChandni Bar\\n(2001)\\n',\n",
       " '\\n95.\\nKai po che!\\n(2013)\\n',\n",
       " '\\n96.\\nEeb Allay Ooo!\\n(2019)\\n',\n",
       " '\\n97.\\nDasvidaniya\\n(2008)\\n',\n",
       " '\\n98.\\nA Wednesday\\n(2008)\\n',\n",
       " '\\n99.\\nLSD: Love, Sex Aur Dhokha\\n(2010)\\n',\n",
       " '\\n100.\\nTrapped\\n(XVII) (2016)\\n']"
      ]
     },
     "execution_count": 275,
     "metadata": {},
     "output_type": "execute_result"
    }
   ],
   "source": [
    "name"
   ]
  },
  {
   "cell_type": "code",
   "execution_count": 276,
   "id": "316b8cab",
   "metadata": {},
   "outputs": [],
   "source": [
    "name = [i.replace('\\n','') for i in name]"
   ]
  },
  {
   "cell_type": "code",
   "execution_count": 277,
   "id": "e84844d7",
   "metadata": {},
   "outputs": [
    {
     "data": {
      "text/plain": [
       "['1.Gangs of Wasseypur(2012)',\n",
       " '2.Masaan(2015)',\n",
       " '3.Ship of Theseus(2012)',\n",
       " '4.Black Friday(2004)',\n",
       " '5.Udaan(2010)',\n",
       " '6.Sardar Udham(2021)',\n",
       " '7.Haider(2014)',\n",
       " '8.The Lunchbox(2013)',\n",
       " '9.Omkara(2006)',\n",
       " '10.3 Idiots(2009)',\n",
       " '11.Zindagi Na Milegi Dobara(2011)',\n",
       " '12.Swades: We, the People(2004)',\n",
       " '13.Shahid(2012)',\n",
       " '14.Ankhon Dekhi(2013)',\n",
       " '15.Aligarh(2015)',\n",
       " '16.Andhadhun(2018)',\n",
       " '17.Maqbool(2003)',\n",
       " '18.Taare Zameen Par(2007)',\n",
       " '19.Sonchiriya(2019)',\n",
       " '20.Gulaal(2009)',\n",
       " '21.Raincoat(2004)',\n",
       " '22.Lootera(I) (2013)',\n",
       " '23.Lagaan: Once Upon a Time in India(2001)',\n",
       " '24.Khosla Ka Ghosla!(2006)',\n",
       " '25.Dangal(2016)',\n",
       " '26.A Death in the Gunj(2016)',\n",
       " '27.Talvar(2015)',\n",
       " '28.Dev.D(2009)',\n",
       " '29.Johnny Gaddaar(2007)',\n",
       " '30.Ugly(2013)',\n",
       " '31.Kahaani(2012)',\n",
       " '32.Badhaai Do(2022)',\n",
       " '33.Tumbbad(2018)',\n",
       " '34.Hera Pheri(2000)',\n",
       " '35.Drishyam(2015)',\n",
       " '36.Veer-Zaara(2004)',\n",
       " '37.Barfi!(2012)',\n",
       " '38.Highway(I) (2014)',\n",
       " '39.Rang De Basanti(2006)',\n",
       " '40.Dor(2006)',\n",
       " '41.Hazaaron Khwaishein Aisi(2003)',\n",
       " '42.Chak De! India(2007)',\n",
       " '43.Sir(I) (2018)',\n",
       " '44.Queen(2013)',\n",
       " '45.October(II) (2018)',\n",
       " '46.Black(2005)',\n",
       " '47.Jab We Met(2007)',\n",
       " '48.Piku(2015)',\n",
       " '49.Kadvi Hawa(2017)',\n",
       " '50.Kapoor & Sons(2016)',\n",
       " '51.Titli(2014)',\n",
       " '52.Tu Hai Mera Sunday(2016)',\n",
       " '53.Newton(2017)',\n",
       " '54.Paan Singh Tomar(2012)',\n",
       " '55.Mukkabaaz(2017)',\n",
       " '56.Devdas(I) (2002)',\n",
       " '57.PK(2014)',\n",
       " '58.Stanley Ka Dabba(2011)',\n",
       " '59.Dil Chahta Hai(2001)',\n",
       " '60.Pink(III) (2016)',\n",
       " '61.No Smoking(2007)',\n",
       " '62.Kal Ho Naa Ho(2003)',\n",
       " '63.Parched(2015)',\n",
       " '64.English Vinglish(2012)',\n",
       " '65.Monsoon Wedding(2001)',\n",
       " '66.1971(2007)',\n",
       " '67.Company(2002)',\n",
       " '68.Water(I) (2005)',\n",
       " '69.Article 15(2019)',\n",
       " '70.Rockstar(2011)',\n",
       " '71.Oye Lucky! Lucky Oye!(2008)',\n",
       " '72.Om Shanti Om(2007)',\n",
       " '73.Bajrangi Bhaijaan(2015)',\n",
       " '74.Jhund(2022)',\n",
       " '75.Munna Bhai M.B.B.S.(2003)',\n",
       " '76.Delhi Belly(2011)',\n",
       " '77.Kabhi Khushi Kabhie Gham...(2001)',\n",
       " '78.Manto(2018)',\n",
       " '79.Udta Punjab(2016)',\n",
       " '80.Mukti Bhawan(2016)',\n",
       " '81.Iqbal(2005)',\n",
       " '82.Firaaq(2008)',\n",
       " '83.Ab Tak Chhappan(2004)',\n",
       " '84.Gully Boy(2019)',\n",
       " '85.My Name Is Khan(2010)',\n",
       " '86.RK/RKAY(2021)',\n",
       " '87.Bhaag Milkha Bhaag(2013)',\n",
       " '88.Wake Up Sid(2009)',\n",
       " '89.Raazi(2018)',\n",
       " '90.Peepli [Live](2010)',\n",
       " '91.The Sky Is Pink(2019)',\n",
       " '92.Gangubai Kathiawadi(2022)',\n",
       " '93.Thappad(2020)',\n",
       " '94.Chandni Bar(2001)',\n",
       " '95.Kai po che!(2013)',\n",
       " '96.Eeb Allay Ooo!(2019)',\n",
       " '97.Dasvidaniya(2008)',\n",
       " '98.A Wednesday(2008)',\n",
       " '99.LSD: Love, Sex Aur Dhokha(2010)',\n",
       " '100.Trapped(XVII) (2016)']"
      ]
     },
     "execution_count": 277,
     "metadata": {},
     "output_type": "execute_result"
    }
   ],
   "source": [
    "name"
   ]
  },
  {
   "cell_type": "code",
   "execution_count": 278,
   "id": "abcc09be",
   "metadata": {},
   "outputs": [],
   "source": [
    "rel_year=[]\n",
    "for i in bs.find_all('span',class_='lister-item-year text-muted unbold'):\n",
    "    rel_year.append(i.text.split('|')[0])"
   ]
  },
  {
   "cell_type": "code",
   "execution_count": 279,
   "id": "4dd9c681",
   "metadata": {
    "scrolled": true
   },
   "outputs": [
    {
     "data": {
      "text/plain": [
       "['(2012)',\n",
       " '(2015)',\n",
       " '(2012)',\n",
       " '(2004)',\n",
       " '(2010)',\n",
       " '(2021)',\n",
       " '(2014)',\n",
       " '(2013)',\n",
       " '(2006)',\n",
       " '(2009)',\n",
       " '(2011)',\n",
       " '(2004)',\n",
       " '(2012)',\n",
       " '(2013)',\n",
       " '(2015)',\n",
       " '(2018)',\n",
       " '(2003)',\n",
       " '(2007)',\n",
       " '(2019)',\n",
       " '(2009)',\n",
       " '(2004)',\n",
       " '(I) (2013)',\n",
       " '(2001)',\n",
       " '(2006)',\n",
       " '(2016)',\n",
       " '(2016)',\n",
       " '(2015)',\n",
       " '(2009)',\n",
       " '(2007)',\n",
       " '(2013)',\n",
       " '(2012)',\n",
       " '(2022)',\n",
       " '(2018)',\n",
       " '(2000)',\n",
       " '(2015)',\n",
       " '(2004)',\n",
       " '(2012)',\n",
       " '(I) (2014)',\n",
       " '(2006)',\n",
       " '(2006)',\n",
       " '(2003)',\n",
       " '(2007)',\n",
       " '(I) (2018)',\n",
       " '(2013)',\n",
       " '(II) (2018)',\n",
       " '(2005)',\n",
       " '(2007)',\n",
       " '(2015)',\n",
       " '(2017)',\n",
       " '(2016)',\n",
       " '(2014)',\n",
       " '(2016)',\n",
       " '(2017)',\n",
       " '(2012)',\n",
       " '(2017)',\n",
       " '(I) (2002)',\n",
       " '(2014)',\n",
       " '(2011)',\n",
       " '(2001)',\n",
       " '(III) (2016)',\n",
       " '(2007)',\n",
       " '(2003)',\n",
       " '(2015)',\n",
       " '(2012)',\n",
       " '(2001)',\n",
       " '(2007)',\n",
       " '(2002)',\n",
       " '(I) (2005)',\n",
       " '(2019)',\n",
       " '(2011)',\n",
       " '(2008)',\n",
       " '(2007)',\n",
       " '(2015)',\n",
       " '(2022)',\n",
       " '(2003)',\n",
       " '(2011)',\n",
       " '(2001)',\n",
       " '(2018)',\n",
       " '(2016)',\n",
       " '(2016)',\n",
       " '(2005)',\n",
       " '(2008)',\n",
       " '(2004)',\n",
       " '(2019)',\n",
       " '(2010)',\n",
       " '(2021)',\n",
       " '(2013)',\n",
       " '(2009)',\n",
       " '(2018)',\n",
       " '(2010)',\n",
       " '(2019)',\n",
       " '(2022)',\n",
       " '(2020)',\n",
       " '(2001)',\n",
       " '(2013)',\n",
       " '(2019)',\n",
       " '(2008)',\n",
       " '(2008)',\n",
       " '(2010)',\n",
       " '(XVII) (2016)']"
      ]
     },
     "execution_count": 279,
     "metadata": {},
     "output_type": "execute_result"
    }
   ],
   "source": [
    "rel_year"
   ]
  },
  {
   "cell_type": "code",
   "execution_count": 280,
   "id": "387b123d",
   "metadata": {},
   "outputs": [],
   "source": [
    "rel_year = [i.replace('(I) ','') for i in rel_year]\n",
    "rel_year = [i.replace('(II) ','') for i in rel_year]\n",
    "rel_year = [i.replace('(III) ','') for i in rel_year]\n",
    "rel_year = [i.replace('(XVII) ','') for i in rel_year]"
   ]
  },
  {
   "cell_type": "code",
   "execution_count": 281,
   "id": "1e0029b9",
   "metadata": {},
   "outputs": [
    {
     "data": {
      "text/plain": [
       "['(2012)',\n",
       " '(2015)',\n",
       " '(2012)',\n",
       " '(2004)',\n",
       " '(2010)',\n",
       " '(2021)',\n",
       " '(2014)',\n",
       " '(2013)',\n",
       " '(2006)',\n",
       " '(2009)',\n",
       " '(2011)',\n",
       " '(2004)',\n",
       " '(2012)',\n",
       " '(2013)',\n",
       " '(2015)',\n",
       " '(2018)',\n",
       " '(2003)',\n",
       " '(2007)',\n",
       " '(2019)',\n",
       " '(2009)',\n",
       " '(2004)',\n",
       " '(2013)',\n",
       " '(2001)',\n",
       " '(2006)',\n",
       " '(2016)',\n",
       " '(2016)',\n",
       " '(2015)',\n",
       " '(2009)',\n",
       " '(2007)',\n",
       " '(2013)',\n",
       " '(2012)',\n",
       " '(2022)',\n",
       " '(2018)',\n",
       " '(2000)',\n",
       " '(2015)',\n",
       " '(2004)',\n",
       " '(2012)',\n",
       " '(2014)',\n",
       " '(2006)',\n",
       " '(2006)',\n",
       " '(2003)',\n",
       " '(2007)',\n",
       " '(2018)',\n",
       " '(2013)',\n",
       " '(2018)',\n",
       " '(2005)',\n",
       " '(2007)',\n",
       " '(2015)',\n",
       " '(2017)',\n",
       " '(2016)',\n",
       " '(2014)',\n",
       " '(2016)',\n",
       " '(2017)',\n",
       " '(2012)',\n",
       " '(2017)',\n",
       " '(2002)',\n",
       " '(2014)',\n",
       " '(2011)',\n",
       " '(2001)',\n",
       " '(2016)',\n",
       " '(2007)',\n",
       " '(2003)',\n",
       " '(2015)',\n",
       " '(2012)',\n",
       " '(2001)',\n",
       " '(2007)',\n",
       " '(2002)',\n",
       " '(2005)',\n",
       " '(2019)',\n",
       " '(2011)',\n",
       " '(2008)',\n",
       " '(2007)',\n",
       " '(2015)',\n",
       " '(2022)',\n",
       " '(2003)',\n",
       " '(2011)',\n",
       " '(2001)',\n",
       " '(2018)',\n",
       " '(2016)',\n",
       " '(2016)',\n",
       " '(2005)',\n",
       " '(2008)',\n",
       " '(2004)',\n",
       " '(2019)',\n",
       " '(2010)',\n",
       " '(2021)',\n",
       " '(2013)',\n",
       " '(2009)',\n",
       " '(2018)',\n",
       " '(2010)',\n",
       " '(2019)',\n",
       " '(2022)',\n",
       " '(2020)',\n",
       " '(2001)',\n",
       " '(2013)',\n",
       " '(2019)',\n",
       " '(2008)',\n",
       " '(2008)',\n",
       " '(2010)',\n",
       " '(2016)']"
      ]
     },
     "execution_count": 281,
     "metadata": {},
     "output_type": "execute_result"
    }
   ],
   "source": [
    "rel_year"
   ]
  },
  {
   "cell_type": "code",
   "execution_count": 282,
   "id": "1f7798b0",
   "metadata": {},
   "outputs": [
    {
     "data": {
      "text/plain": [
       "100"
      ]
     },
     "execution_count": 282,
     "metadata": {},
     "output_type": "execute_result"
    }
   ],
   "source": [
    "len(rel_year)"
   ]
  },
  {
   "cell_type": "code",
   "execution_count": 283,
   "id": "772cacc3",
   "metadata": {},
   "outputs": [],
   "source": [
    "rating1= []\n",
    "for i in bs.find_all('div',class_='ipl-rating-star small'):\n",
    "    rating1.append(i.text.split('|')[0])"
   ]
  },
  {
   "cell_type": "code",
   "execution_count": 284,
   "id": "2487e1a7",
   "metadata": {},
   "outputs": [
    {
     "data": {
      "text/plain": [
       "['\\n\\n\\n\\n\\n\\n\\n\\n8.2\\n',\n",
       " '\\n\\n\\n\\n\\n\\n\\n\\n8.1\\n',\n",
       " '\\n\\n\\n\\n\\n\\n\\n\\n8\\n',\n",
       " '\\n\\n\\n\\n\\n\\n\\n\\n8.4\\n',\n",
       " '\\n\\n\\n\\n\\n\\n\\n\\n8.1\\n',\n",
       " '\\n\\n\\n\\n\\n\\n\\n\\n8.4\\n',\n",
       " '\\n\\n\\n\\n\\n\\n\\n\\n8\\n',\n",
       " '\\n\\n\\n\\n\\n\\n\\n\\n7.8\\n',\n",
       " '\\n\\n\\n\\n\\n\\n\\n\\n8.1\\n',\n",
       " '\\n\\n\\n\\n\\n\\n\\n\\n8.4\\n',\n",
       " '\\n\\n\\n\\n\\n\\n\\n\\n8.2\\n',\n",
       " '\\n\\n\\n\\n\\n\\n\\n\\n8.2\\n',\n",
       " '\\n\\n\\n\\n\\n\\n\\n\\n8.2\\n',\n",
       " '\\n\\n\\n\\n\\n\\n\\n\\n7.9\\n',\n",
       " '\\n\\n\\n\\n\\n\\n\\n\\n7.8\\n',\n",
       " '\\n\\n\\n\\n\\n\\n\\n\\n8.2\\n',\n",
       " '\\n\\n\\n\\n\\n\\n\\n\\n8\\n',\n",
       " '\\n\\n\\n\\n\\n\\n\\n\\n8.4\\n',\n",
       " '\\n\\n\\n\\n\\n\\n\\n\\n7.9\\n',\n",
       " '\\n\\n\\n\\n\\n\\n\\n\\n8\\n',\n",
       " '\\n\\n\\n\\n\\n\\n\\n\\n7.7\\n',\n",
       " '\\n\\n\\n\\n\\n\\n\\n\\n7.4\\n',\n",
       " '\\n\\n\\n\\n\\n\\n\\n\\n8.1\\n',\n",
       " '\\n\\n\\n\\n\\n\\n\\n\\n8.3\\n',\n",
       " '\\n\\n\\n\\n\\n\\n\\n\\n8.3\\n',\n",
       " '\\n\\n\\n\\n\\n\\n\\n\\n7.4\\n',\n",
       " '\\n\\n\\n\\n\\n\\n\\n\\n8.1\\n',\n",
       " '\\n\\n\\n\\n\\n\\n\\n\\n7.9\\n',\n",
       " '\\n\\n\\n\\n\\n\\n\\n\\n7.9\\n',\n",
       " '\\n\\n\\n\\n\\n\\n\\n\\n7.9\\n',\n",
       " '\\n\\n\\n\\n\\n\\n\\n\\n8.1\\n',\n",
       " '\\n\\n\\n\\n\\n\\n\\n\\n7\\n',\n",
       " '\\n\\n\\n\\n\\n\\n\\n\\n8.2\\n',\n",
       " '\\n\\n\\n\\n\\n\\n\\n\\n8.1\\n',\n",
       " '\\n\\n\\n\\n\\n\\n\\n\\n8.2\\n',\n",
       " '\\n\\n\\n\\n\\n\\n\\n\\n7.8\\n',\n",
       " '\\n\\n\\n\\n\\n\\n\\n\\n8.1\\n',\n",
       " '\\n\\n\\n\\n\\n\\n\\n\\n7.6\\n',\n",
       " '\\n\\n\\n\\n\\n\\n\\n\\n8.1\\n',\n",
       " '\\n\\n\\n\\n\\n\\n\\n\\n8\\n',\n",
       " '\\n\\n\\n\\n\\n\\n\\n\\n7.9\\n',\n",
       " '\\n\\n\\n\\n\\n\\n\\n\\n8.1\\n',\n",
       " '\\n\\n\\n\\n\\n\\n\\n\\n7.7\\n',\n",
       " '\\n\\n\\n\\n\\n\\n\\n\\n8.1\\n',\n",
       " '\\n\\n\\n\\n\\n\\n\\n\\n7.5\\n',\n",
       " '\\n\\n\\n\\n\\n\\n\\n\\n8.1\\n',\n",
       " '\\n\\n\\n\\n\\n\\n\\n\\n7.9\\n',\n",
       " '\\n\\n\\n\\n\\n\\n\\n\\n7.6\\n',\n",
       " '\\n\\n\\n\\n\\n\\n\\n\\n8\\n',\n",
       " '\\n\\n\\n\\n\\n\\n\\n\\n7.7\\n',\n",
       " '\\n\\n\\n\\n\\n\\n\\n\\n7.5\\n',\n",
       " '\\n\\n\\n\\n\\n\\n\\n\\n7.7\\n',\n",
       " '\\n\\n\\n\\n\\n\\n\\n\\n7.6\\n',\n",
       " '\\n\\n\\n\\n\\n\\n\\n\\n8.2\\n',\n",
       " '\\n\\n\\n\\n\\n\\n\\n\\n8\\n',\n",
       " '\\n\\n\\n\\n\\n\\n\\n\\n7.5\\n',\n",
       " '\\n\\n\\n\\n\\n\\n\\n\\n8.1\\n',\n",
       " '\\n\\n\\n\\n\\n\\n\\n\\n7.8\\n',\n",
       " '\\n\\n\\n\\n\\n\\n\\n\\n8.1\\n',\n",
       " '\\n\\n\\n\\n\\n\\n\\n\\n8.1\\n',\n",
       " '\\n\\n\\n\\n\\n\\n\\n\\n7.3\\n',\n",
       " '\\n\\n\\n\\n\\n\\n\\n\\n7.9\\n',\n",
       " '\\n\\n\\n\\n\\n\\n\\n\\n7.5\\n',\n",
       " '\\n\\n\\n\\n\\n\\n\\n\\n7.8\\n',\n",
       " '\\n\\n\\n\\n\\n\\n\\n\\n7.3\\n',\n",
       " '\\n\\n\\n\\n\\n\\n\\n\\n8.2\\n',\n",
       " '\\n\\n\\n\\n\\n\\n\\n\\n8\\n',\n",
       " '\\n\\n\\n\\n\\n\\n\\n\\n7.7\\n',\n",
       " '\\n\\n\\n\\n\\n\\n\\n\\n8.1\\n',\n",
       " '\\n\\n\\n\\n\\n\\n\\n\\n7.7\\n',\n",
       " '\\n\\n\\n\\n\\n\\n\\n\\n7.7\\n',\n",
       " '\\n\\n\\n\\n\\n\\n\\n\\n6.7\\n',\n",
       " '\\n\\n\\n\\n\\n\\n\\n\\n8.1\\n',\n",
       " '\\n\\n\\n\\n\\n\\n\\n\\n7.4\\n',\n",
       " '\\n\\n\\n\\n\\n\\n\\n\\n8.1\\n',\n",
       " '\\n\\n\\n\\n\\n\\n\\n\\n7.5\\n',\n",
       " '\\n\\n\\n\\n\\n\\n\\n\\n7.4\\n',\n",
       " '\\n\\n\\n\\n\\n\\n\\n\\n7.3\\n',\n",
       " '\\n\\n\\n\\n\\n\\n\\n\\n7.7\\n',\n",
       " '\\n\\n\\n\\n\\n\\n\\n\\n7\\n',\n",
       " '\\n\\n\\n\\n\\n\\n\\n\\n8.1\\n',\n",
       " '\\n\\n\\n\\n\\n\\n\\n\\n7.3\\n',\n",
       " '\\n\\n\\n\\n\\n\\n\\n\\n7.8\\n',\n",
       " '\\n\\n\\n\\n\\n\\n\\n\\n7.9\\n',\n",
       " '\\n\\n\\n\\n\\n\\n\\n\\n7.9\\n',\n",
       " '\\n\\n\\n\\n\\n\\n\\n\\n7\\n',\n",
       " '\\n\\n\\n\\n\\n\\n\\n\\n8.2\\n',\n",
       " '\\n\\n\\n\\n\\n\\n\\n\\n7.6\\n',\n",
       " '\\n\\n\\n\\n\\n\\n\\n\\n7.7\\n',\n",
       " '\\n\\n\\n\\n\\n\\n\\n\\n7.4\\n',\n",
       " '\\n\\n\\n\\n\\n\\n\\n\\n7.6\\n',\n",
       " '\\n\\n\\n\\n\\n\\n\\n\\n7\\n',\n",
       " '\\n\\n\\n\\n\\n\\n\\n\\n7\\n',\n",
       " '\\n\\n\\n\\n\\n\\n\\n\\n7.6\\n',\n",
       " '\\n\\n\\n\\n\\n\\n\\n\\n7.8\\n',\n",
       " '\\n\\n\\n\\n\\n\\n\\n\\n7.2\\n',\n",
       " '\\n\\n\\n\\n\\n\\n\\n\\n7.8\\n',\n",
       " '\\n\\n\\n\\n\\n\\n\\n\\n8.1\\n',\n",
       " '\\n\\n\\n\\n\\n\\n\\n\\n7.2\\n',\n",
       " '\\n\\n\\n\\n\\n\\n\\n\\n7.5\\n']"
      ]
     },
     "execution_count": 284,
     "metadata": {},
     "output_type": "execute_result"
    }
   ],
   "source": [
    "rating1"
   ]
  },
  {
   "cell_type": "code",
   "execution_count": 285,
   "id": "8c58a957",
   "metadata": {},
   "outputs": [
    {
     "data": {
      "text/plain": [
       "100"
      ]
     },
     "execution_count": 285,
     "metadata": {},
     "output_type": "execute_result"
    }
   ],
   "source": [
    "len(rating1)"
   ]
  },
  {
   "cell_type": "code",
   "execution_count": 286,
   "id": "92c525ae",
   "metadata": {},
   "outputs": [],
   "source": [
    "rating1=[i.replace('\\n','') for i in rating1]"
   ]
  },
  {
   "cell_type": "code",
   "execution_count": 287,
   "id": "5d3ecaa6",
   "metadata": {},
   "outputs": [
    {
     "data": {
      "text/plain": [
       "['8.2',\n",
       " '8.1',\n",
       " '8',\n",
       " '8.4',\n",
       " '8.1',\n",
       " '8.4',\n",
       " '8',\n",
       " '7.8',\n",
       " '8.1',\n",
       " '8.4',\n",
       " '8.2',\n",
       " '8.2',\n",
       " '8.2',\n",
       " '7.9',\n",
       " '7.8',\n",
       " '8.2',\n",
       " '8',\n",
       " '8.4',\n",
       " '7.9',\n",
       " '8',\n",
       " '7.7',\n",
       " '7.4',\n",
       " '8.1',\n",
       " '8.3',\n",
       " '8.3',\n",
       " '7.4',\n",
       " '8.1',\n",
       " '7.9',\n",
       " '7.9',\n",
       " '7.9',\n",
       " '8.1',\n",
       " '7',\n",
       " '8.2',\n",
       " '8.1',\n",
       " '8.2',\n",
       " '7.8',\n",
       " '8.1',\n",
       " '7.6',\n",
       " '8.1',\n",
       " '8',\n",
       " '7.9',\n",
       " '8.1',\n",
       " '7.7',\n",
       " '8.1',\n",
       " '7.5',\n",
       " '8.1',\n",
       " '7.9',\n",
       " '7.6',\n",
       " '8',\n",
       " '7.7',\n",
       " '7.5',\n",
       " '7.7',\n",
       " '7.6',\n",
       " '8.2',\n",
       " '8',\n",
       " '7.5',\n",
       " '8.1',\n",
       " '7.8',\n",
       " '8.1',\n",
       " '8.1',\n",
       " '7.3',\n",
       " '7.9',\n",
       " '7.5',\n",
       " '7.8',\n",
       " '7.3',\n",
       " '8.2',\n",
       " '8',\n",
       " '7.7',\n",
       " '8.1',\n",
       " '7.7',\n",
       " '7.7',\n",
       " '6.7',\n",
       " '8.1',\n",
       " '7.4',\n",
       " '8.1',\n",
       " '7.5',\n",
       " '7.4',\n",
       " '7.3',\n",
       " '7.7',\n",
       " '7',\n",
       " '8.1',\n",
       " '7.3',\n",
       " '7.8',\n",
       " '7.9',\n",
       " '7.9',\n",
       " '7',\n",
       " '8.2',\n",
       " '7.6',\n",
       " '7.7',\n",
       " '7.4',\n",
       " '7.6',\n",
       " '7',\n",
       " '7',\n",
       " '7.6',\n",
       " '7.8',\n",
       " '7.2',\n",
       " '7.8',\n",
       " '8.1',\n",
       " '7.2',\n",
       " '7.5']"
      ]
     },
     "execution_count": 287,
     "metadata": {},
     "output_type": "execute_result"
    }
   ],
   "source": [
    "rating1"
   ]
  },
  {
   "cell_type": "code",
   "execution_count": 288,
   "id": "00f17471",
   "metadata": {},
   "outputs": [],
   "source": [
    "df=pd.DataFrame({'name':name,'year':rel_year,'rating':rating1})"
   ]
  },
  {
   "cell_type": "code",
   "execution_count": 289,
   "id": "91f79501",
   "metadata": {},
   "outputs": [
    {
     "data": {
      "text/html": [
       "<div>\n",
       "<style scoped>\n",
       "    .dataframe tbody tr th:only-of-type {\n",
       "        vertical-align: middle;\n",
       "    }\n",
       "\n",
       "    .dataframe tbody tr th {\n",
       "        vertical-align: top;\n",
       "    }\n",
       "\n",
       "    .dataframe thead th {\n",
       "        text-align: right;\n",
       "    }\n",
       "</style>\n",
       "<table border=\"1\" class=\"dataframe\">\n",
       "  <thead>\n",
       "    <tr style=\"text-align: right;\">\n",
       "      <th></th>\n",
       "      <th>name</th>\n",
       "      <th>year</th>\n",
       "      <th>rating</th>\n",
       "    </tr>\n",
       "  </thead>\n",
       "  <tbody>\n",
       "    <tr>\n",
       "      <th>0</th>\n",
       "      <td>1.Gangs of Wasseypur(2012)</td>\n",
       "      <td>(2012)</td>\n",
       "      <td>8.2</td>\n",
       "    </tr>\n",
       "    <tr>\n",
       "      <th>1</th>\n",
       "      <td>2.Masaan(2015)</td>\n",
       "      <td>(2015)</td>\n",
       "      <td>8.1</td>\n",
       "    </tr>\n",
       "    <tr>\n",
       "      <th>2</th>\n",
       "      <td>3.Ship of Theseus(2012)</td>\n",
       "      <td>(2012)</td>\n",
       "      <td>8</td>\n",
       "    </tr>\n",
       "    <tr>\n",
       "      <th>3</th>\n",
       "      <td>4.Black Friday(2004)</td>\n",
       "      <td>(2004)</td>\n",
       "      <td>8.4</td>\n",
       "    </tr>\n",
       "    <tr>\n",
       "      <th>4</th>\n",
       "      <td>5.Udaan(2010)</td>\n",
       "      <td>(2010)</td>\n",
       "      <td>8.1</td>\n",
       "    </tr>\n",
       "    <tr>\n",
       "      <th>...</th>\n",
       "      <td>...</td>\n",
       "      <td>...</td>\n",
       "      <td>...</td>\n",
       "    </tr>\n",
       "    <tr>\n",
       "      <th>95</th>\n",
       "      <td>96.Eeb Allay Ooo!(2019)</td>\n",
       "      <td>(2019)</td>\n",
       "      <td>7.2</td>\n",
       "    </tr>\n",
       "    <tr>\n",
       "      <th>96</th>\n",
       "      <td>97.Dasvidaniya(2008)</td>\n",
       "      <td>(2008)</td>\n",
       "      <td>7.8</td>\n",
       "    </tr>\n",
       "    <tr>\n",
       "      <th>97</th>\n",
       "      <td>98.A Wednesday(2008)</td>\n",
       "      <td>(2008)</td>\n",
       "      <td>8.1</td>\n",
       "    </tr>\n",
       "    <tr>\n",
       "      <th>98</th>\n",
       "      <td>99.LSD: Love, Sex Aur Dhokha(2010)</td>\n",
       "      <td>(2010)</td>\n",
       "      <td>7.2</td>\n",
       "    </tr>\n",
       "    <tr>\n",
       "      <th>99</th>\n",
       "      <td>100.Trapped(XVII) (2016)</td>\n",
       "      <td>(2016)</td>\n",
       "      <td>7.5</td>\n",
       "    </tr>\n",
       "  </tbody>\n",
       "</table>\n",
       "<p>100 rows × 3 columns</p>\n",
       "</div>"
      ],
      "text/plain": [
       "                                  name    year rating\n",
       "0           1.Gangs of Wasseypur(2012)  (2012)    8.2\n",
       "1                       2.Masaan(2015)  (2015)    8.1\n",
       "2              3.Ship of Theseus(2012)  (2012)      8\n",
       "3                 4.Black Friday(2004)  (2004)    8.4\n",
       "4                        5.Udaan(2010)  (2010)    8.1\n",
       "..                                 ...     ...    ...\n",
       "95             96.Eeb Allay Ooo!(2019)  (2019)    7.2\n",
       "96                97.Dasvidaniya(2008)  (2008)    7.8\n",
       "97                98.A Wednesday(2008)  (2008)    8.1\n",
       "98  99.LSD: Love, Sex Aur Dhokha(2010)  (2010)    7.2\n",
       "99            100.Trapped(XVII) (2016)  (2016)    7.5\n",
       "\n",
       "[100 rows x 3 columns]"
      ]
     },
     "execution_count": 289,
     "metadata": {},
     "output_type": "execute_result"
    }
   ],
   "source": [
    "df"
   ]
  },
  {
   "cell_type": "markdown",
   "id": "f20e2251",
   "metadata": {},
   "source": [
    "## President of India"
   ]
  },
  {
   "cell_type": "code",
   "execution_count": 291,
   "id": "7a8e4659",
   "metadata": {},
   "outputs": [],
   "source": [
    "web3 = requests.get('https://presidentofindia.nic.in/former-presidents.htm')"
   ]
  },
  {
   "cell_type": "code",
   "execution_count": 293,
   "id": "b73c06be",
   "metadata": {},
   "outputs": [],
   "source": [
    "bs = BeautifulSoup(web3.content)"
   ]
  },
  {
   "cell_type": "code",
   "execution_count": 299,
   "id": "76f2d94d",
   "metadata": {},
   "outputs": [],
   "source": [
    "pres_name=[]"
   ]
  },
  {
   "cell_type": "code",
   "execution_count": 300,
   "id": "5b2e3808",
   "metadata": {},
   "outputs": [],
   "source": [
    "for i in bs.find_all('h3',class_='presidentListing'):\n",
    "    pres_name.append(i.text.split('|')[0])"
   ]
  },
  {
   "cell_type": "code",
   "execution_count": 301,
   "id": "fa00735b",
   "metadata": {},
   "outputs": [
    {
     "data": {
      "text/plain": [
       "[]"
      ]
     },
     "execution_count": 301,
     "metadata": {},
     "output_type": "execute_result"
    }
   ],
   "source": [
    "pres_name"
   ]
  },
  {
   "cell_type": "code",
   "execution_count": 324,
   "id": "0c595f35",
   "metadata": {},
   "outputs": [],
   "source": [
    "president=[]\n",
    "for i in bs.find_all('div',class_='presidentListing'):\n",
    "    president.append(i.text.split('|')[0])"
   ]
  },
  {
   "cell_type": "code",
   "execution_count": 325,
   "id": "583f2158",
   "metadata": {},
   "outputs": [
    {
     "data": {
      "text/plain": [
       "['\\nShri Ram Nath Kovind (birth - 1945)\\nTerm of Office: 25 July, 2017 to 25 July, 2022 \\nhttps://ramnathkovind.nic.in\\n',\n",
       " '\\nShri Pranab Mukherjee (1935-2020)\\nTerm of Office: 25 July, 2012 to 25 July, 2017 \\nhttp://pranabmukherjee.nic.in\\n',\n",
       " '\\nSmt Pratibha Devisingh Patil (birth - 1934)\\nTerm of Office: 25 July, 2007 to 25 July, 2012 \\nhttp://pratibhapatil.nic.in\\n',\n",
       " '\\nDR. A.P.J. Abdul Kalam (1931-2015)\\nTerm of Office: 25 July, 2002 to 25 July, 2007 \\nhttp://abdulkalam.nic.in\\n',\n",
       " '\\nShri K. R. Narayanan (1920 - 2005)\\nTerm of Office: 25 July, 1997 to 25 July, 2002 \\n',\n",
       " '\\nDr Shankar Dayal Sharma (1918-1999)\\nTerm of Office: 25 July, 1992 to 25 July, 1997 \\n',\n",
       " '\\nShri R Venkataraman (1910-2009)\\nTerm of Office: 25 July, 1987 to 25 July, 1992 \\n',\n",
       " '\\nGiani Zail Singh (1916-1994)\\nTerm of Office: 25 July, 1982 to 25 July, 1987 \\n',\n",
       " '\\nShri Neelam Sanjiva Reddy (1913-1996)\\nTerm of Office: 25 July, 1977 to 25 July, 1982 \\n',\n",
       " '\\nDr. Fakhruddin Ali Ahmed (1905-1977)\\nTerm of Office: 24 August, 1974 to 11 February, 1977\\n',\n",
       " '\\nShri Varahagiri Venkata Giri (1894-1980)\\nTerm of Office: 3 May, 1969 to 20 July, 1969 and 24 August, 1969 to 24 August, 1974\\n',\n",
       " '\\nDr. Zakir Husain (1897-1969)\\nTerm of Office: 13 May, 1967 to 3 May, 1969\\n',\n",
       " '\\nDr. Sarvepalli Radhakrishnan (1888-1975)\\nTerm of Office: 13 May, 1962 to 13 May, 1967\\n',\n",
       " '\\nDr. Rajendra Prasad (1884-1963) \\nTerm of Office: 26 January, 1950 to 13 May, 1962\\n']"
      ]
     },
     "execution_count": 325,
     "metadata": {},
     "output_type": "execute_result"
    }
   ],
   "source": [
    "president"
   ]
  },
  {
   "cell_type": "code",
   "execution_count": 326,
   "id": "b7ff1307",
   "metadata": {},
   "outputs": [],
   "source": [
    "president=[i.replace('\\n',',') for i in president]"
   ]
  },
  {
   "cell_type": "code",
   "execution_count": 327,
   "id": "f71119b1",
   "metadata": {},
   "outputs": [
    {
     "data": {
      "text/plain": [
       "[',Shri Ram Nath Kovind (birth - 1945),Term of Office: 25 July, 2017 to 25 July, 2022 ,https://ramnathkovind.nic.in,',\n",
       " ',Shri Pranab Mukherjee (1935-2020),Term of Office: 25 July, 2012 to 25 July, 2017 ,http://pranabmukherjee.nic.in,',\n",
       " ',Smt Pratibha Devisingh Patil (birth - 1934),Term of Office: 25 July, 2007 to 25 July, 2012 ,http://pratibhapatil.nic.in,',\n",
       " ',DR. A.P.J. Abdul Kalam (1931-2015),Term of Office: 25 July, 2002 to 25 July, 2007 ,http://abdulkalam.nic.in,',\n",
       " ',Shri K. R. Narayanan (1920 - 2005),Term of Office: 25 July, 1997 to 25 July, 2002 ,',\n",
       " ',Dr Shankar Dayal Sharma (1918-1999),Term of Office: 25 July, 1992 to 25 July, 1997 ,',\n",
       " ',Shri R Venkataraman (1910-2009),Term of Office: 25 July, 1987 to 25 July, 1992 ,',\n",
       " ',Giani Zail Singh (1916-1994),Term of Office: 25 July, 1982 to 25 July, 1987 ,',\n",
       " ',Shri Neelam Sanjiva Reddy (1913-1996),Term of Office: 25 July, 1977 to 25 July, 1982 ,',\n",
       " ',Dr. Fakhruddin Ali Ahmed (1905-1977),Term of Office: 24 August, 1974 to 11 February, 1977,',\n",
       " ',Shri Varahagiri Venkata Giri (1894-1980),Term of Office: 3 May, 1969 to 20 July, 1969 and 24 August, 1969 to 24 August, 1974,',\n",
       " ',Dr. Zakir Husain (1897-1969),Term of Office: 13 May, 1967 to 3 May, 1969,',\n",
       " ',Dr. Sarvepalli Radhakrishnan (1888-1975),Term of Office: 13 May, 1962 to 13 May, 1967,',\n",
       " ',Dr. Rajendra Prasad (1884-1963) ,Term of Office: 26 January, 1950 to 13 May, 1962,']"
      ]
     },
     "execution_count": 327,
     "metadata": {},
     "output_type": "execute_result"
    }
   ],
   "source": [
    "president"
   ]
  },
  {
   "cell_type": "code",
   "execution_count": null,
   "id": "c42665f8",
   "metadata": {},
   "outputs": [],
   "source": []
  }
 ],
 "metadata": {
  "kernelspec": {
   "display_name": "Python 3 (ipykernel)",
   "language": "python",
   "name": "python3"
  },
  "language_info": {
   "codemirror_mode": {
    "name": "ipython",
    "version": 3
   },
   "file_extension": ".py",
   "mimetype": "text/x-python",
   "name": "python",
   "nbconvert_exporter": "python",
   "pygments_lexer": "ipython3",
   "version": "3.9.12"
  }
 },
 "nbformat": 4,
 "nbformat_minor": 5
}
